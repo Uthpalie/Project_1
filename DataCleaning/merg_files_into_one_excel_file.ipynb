{
 "cells": [
  {
   "cell_type": "code",
   "execution_count": 1,
   "id": "e3f75c08-28ee-468a-aabd-a3ffe699540c",
   "metadata": {},
   "outputs": [],
   "source": [
    "import os\n",
    "import pandas as pd\n",
    "\n",
    "# Directory containing the Excel files\n",
    "directory = r\"C:\\Users\\Administrator\\BootcampClassPorjects\\project1_tests\\resources\"\n",
    "\n",
    "# List all files in the directory\n",
    "files = os.listdir(directory)\n",
    "\n",
    "# Filter Excel and CSV files\n",
    "excel_files = [file for file in files if file.endswith((\".xls\", \".xlsx\"))]\n",
    "csv_files = [file for file in files if file.endswith(\".csv\")]\n",
    "\n",
    "\n"
   ]
  },
  {
   "cell_type": "code",
   "execution_count": 2,
   "id": "a75f917e-6690-4b94-9c1d-87fd45997b3a",
   "metadata": {},
   "outputs": [],
   "source": [
    "# Read Excel files into a pandas DataFrame\n",
    "excel_dfs = []\n",
    "for file in excel_files:\n",
    "    file_path = os.path.join(directory, file)\n",
    "    if file.endswith('.xlsx'):\n",
    "        excel_dfs.append(pd.read_excel(file_path))\n",
    "    elif file.endswith('.xls'):\n",
    "        excel_dfs.append(pd.read_excel(file_path, engine='xlrd'))  # Use xlrd engine for .xls files\n",
    "\n",
    "\n"
   ]
  },
  {
   "cell_type": "code",
   "execution_count": 3,
   "id": "fe19c8d5-dfab-4973-9653-d0125f2f3a9f",
   "metadata": {},
   "outputs": [],
   "source": [
    "# Read CSV files into a pandas DataFrame\n",
    "csv_dfs = []\n",
    "for file in csv_files:\n",
    "    file_path = os.path.join(directory, file)\n",
    "    csv_dfs.append(pd.read_csv(file_path))\n"
   ]
  },
  {
   "cell_type": "code",
   "execution_count": 4,
   "id": "8b94b449-e994-4eb2-8455-6bbaa9e31e0b",
   "metadata": {},
   "outputs": [],
   "source": [
    "# Create a writer object for the output Excel file\n",
    "output_writer = pd.ExcelWriter(\"resources\\merged_file.xlsx\", engine=\"openpyxl\")\n",
    "\n",
    "# Write Excel DataFrames to separate sheets\n",
    "for file, df in zip(excel_files, excel_dfs):\n",
    "    sheet_name = os.path.splitext(file)[0]  # Extract file name without extension\n",
    "    df.to_excel(output_writer, sheet_name=sheet_name, index=False)"
   ]
  },
  {
   "cell_type": "code",
   "execution_count": 5,
   "id": "beefb1f7-9356-455d-b4d3-b779383d20a7",
   "metadata": {},
   "outputs": [],
   "source": [
    "# Write CSV DataFrames to separate sheets\n",
    "for file, df in zip(csv_files, csv_dfs):\n",
    "    sheet_name = os.path.splitext(file)[0]  # Extract file name without extension\n",
    "    df.to_excel(output_writer, sheet_name=sheet_name, index=False)\n",
    "\n",
    "# Close the Excel writer\n",
    "output_writer.close()"
   ]
  },
  {
   "cell_type": "code",
   "execution_count": null,
   "id": "ca4ee25e-1222-4245-8e2e-f248557efdca",
   "metadata": {},
   "outputs": [],
   "source": []
  },
  {
   "cell_type": "code",
   "execution_count": null,
   "id": "af15f73e-bcf9-4ff6-9d3a-36507e91e36c",
   "metadata": {},
   "outputs": [],
   "source": []
  }
 ],
 "metadata": {
  "kernelspec": {
   "display_name": "Python 3 (ipykernel)",
   "language": "python",
   "name": "python3"
  },
  "language_info": {
   "codemirror_mode": {
    "name": "ipython",
    "version": 3
   },
   "file_extension": ".py",
   "mimetype": "text/x-python",
   "name": "python",
   "nbconvert_exporter": "python",
   "pygments_lexer": "ipython3",
   "version": "3.10.14"
  }
 },
 "nbformat": 4,
 "nbformat_minor": 5
}
