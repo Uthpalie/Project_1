{
 "cells": [
  {
   "cell_type": "code",
   "execution_count": 5,
   "id": "d4fb3e26-063c-47e5-b48a-4775dc19119f",
   "metadata": {},
   "outputs": [
    {
     "data": {
      "text/html": [
       "<div>\n",
       "<style scoped>\n",
       "    .dataframe tbody tr th:only-of-type {\n",
       "        vertical-align: middle;\n",
       "    }\n",
       "\n",
       "    .dataframe tbody tr th {\n",
       "        vertical-align: top;\n",
       "    }\n",
       "\n",
       "    .dataframe thead th {\n",
       "        text-align: right;\n",
       "    }\n",
       "</style>\n",
       "<table border=\"1\" class=\"dataframe\">\n",
       "  <thead>\n",
       "    <tr style=\"text-align: right;\">\n",
       "      <th></th>\n",
       "      <th>ASX Code</th>\n",
       "      <th>Security Group Code</th>\n",
       "      <th>Issuer Full Name</th>\n",
       "      <th>Product Description</th>\n",
       "      <th>Last Price($)</th>\n",
       "      <th>Business Date</th>\n",
       "      <th>Year</th>\n",
       "    </tr>\n",
       "  </thead>\n",
       "  <tbody>\n",
       "    <tr>\n",
       "      <th>0</th>\n",
       "      <td>AZZG</td>\n",
       "      <td>CNV</td>\n",
       "      <td>ANTARES ENERGY LIMITED                        ...</td>\n",
       "      <td>CBND 10.00% 10-23 3M</td>\n",
       "      <td>1.92</td>\n",
       "      <td>20150910</td>\n",
       "      <td>2017</td>\n",
       "    </tr>\n",
       "    <tr>\n",
       "      <th>1</th>\n",
       "      <td>CGNG</td>\n",
       "      <td>CNV</td>\n",
       "      <td>CRATER GOLD MINING LIMITED                    ...</td>\n",
       "      <td>CBND 10.00% 08-17 6M</td>\n",
       "      <td>20</td>\n",
       "      <td>20170411</td>\n",
       "      <td>2017</td>\n",
       "    </tr>\n",
       "    <tr>\n",
       "      <th>2</th>\n",
       "      <td>CGRG</td>\n",
       "      <td>CNV</td>\n",
       "      <td>CML GROUP LIMITED                             ...</td>\n",
       "      <td>CBND 9.00% 01-20 6M</td>\n",
       "      <td>1.12</td>\n",
       "      <td>20170608</td>\n",
       "      <td>2017</td>\n",
       "    </tr>\n",
       "    <tr>\n",
       "      <th>3</th>\n",
       "      <td>CTNG</td>\n",
       "      <td>CNV</td>\n",
       "      <td>CONTANGO MICROCAP LIMITED                     ...</td>\n",
       "      <td>CBND 5.50% 03-20 6M</td>\n",
       "      <td>100.25</td>\n",
       "      <td>20170630</td>\n",
       "      <td>2017</td>\n",
       "    </tr>\n",
       "    <tr>\n",
       "      <th>4</th>\n",
       "      <td>HGOG</td>\n",
       "      <td>CNV</td>\n",
       "      <td>HILLGROVE RESOURCES LIMITED                   ...</td>\n",
       "      <td>CBND 6.0% 12-19 6M</td>\n",
       "      <td>2.48</td>\n",
       "      <td>20170630</td>\n",
       "      <td>2017</td>\n",
       "    </tr>\n",
       "  </tbody>\n",
       "</table>\n",
       "</div>"
      ],
      "text/plain": [
       "  ASX Code Security Group Code  \\\n",
       "0   AZZG                   CNV   \n",
       "1   CGNG                   CNV   \n",
       "2   CGRG                   CNV   \n",
       "3   CTNG                   CNV   \n",
       "4   HGOG                   CNV   \n",
       "\n",
       "                                    Issuer Full Name   Product Description  \\\n",
       "0  ANTARES ENERGY LIMITED                        ...  CBND 10.00% 10-23 3M   \n",
       "1  CRATER GOLD MINING LIMITED                    ...  CBND 10.00% 08-17 6M   \n",
       "2  CML GROUP LIMITED                             ...  CBND 9.00% 01-20 6M    \n",
       "3  CONTANGO MICROCAP LIMITED                     ...  CBND 5.50% 03-20 6M    \n",
       "4  HILLGROVE RESOURCES LIMITED                   ...  CBND 6.0% 12-19 6M     \n",
       "\n",
       "  Last Price($) Business Date  Year  \n",
       "0          1.92      20150910  2017  \n",
       "1            20      20170411  2017  \n",
       "2          1.12      20170608  2017  \n",
       "3        100.25      20170630  2017  \n",
       "4          2.48      20170630  2017  "
      ]
     },
     "execution_count": 5,
     "metadata": {},
     "output_type": "execute_result"
    }
   ],
   "source": [
    "import pandas as pd\n",
    "\n",
    "# Specify the file path\n",
    "file_path = \"resources/combined_data.csv\"\n",
    "\n",
    "# Read the CSV file into a DataFrame\n",
    "combined_df = pd.read_csv(file_path)\n",
    "combined_df.head()"
   ]
  },
  {
   "cell_type": "code",
   "execution_count": 6,
   "id": "0f22b63c-1544-42b2-a698-fb38cee7efdf",
   "metadata": {},
   "outputs": [],
   "source": [
    "# trim the ASX Code data\n",
    "combined_df['ASX Code'] = combined_df['ASX Code'].str.strip()"
   ]
  },
  {
   "cell_type": "code",
   "execution_count": 7,
   "id": "e351215a-2f89-480d-9f9d-9977a8ad5356",
   "metadata": {},
   "outputs": [
    {
     "data": {
      "text/plain": [
       "15729"
      ]
     },
     "execution_count": 7,
     "metadata": {},
     "output_type": "execute_result"
    }
   ],
   "source": [
    "combined_df['ASX Code'].nunique()"
   ]
  },
  {
   "cell_type": "code",
   "execution_count": 8,
   "id": "ac6283f9-86e3-42ac-bff1-cc475cc4c7d8",
   "metadata": {},
   "outputs": [
    {
     "data": {
      "text/plain": [
       "4286"
      ]
     },
     "execution_count": 8,
     "metadata": {},
     "output_type": "execute_result"
    }
   ],
   "source": [
    "# delete all the records that are not Equity \n",
    "combined_df = combined_df[combined_df['Security Group Code'] == 'EQY']\n",
    "\n",
    "combined_df['ASX Code'].nunique()"
   ]
  },
  {
   "cell_type": "code",
   "execution_count": 9,
   "id": "8ebaab8c-0b03-4b8f-b4d1-957595d9f283",
   "metadata": {},
   "outputs": [
    {
     "data": {
      "text/plain": [
       "4114"
      ]
     },
     "execution_count": 9,
     "metadata": {},
     "output_type": "execute_result"
    }
   ],
   "source": [
    "# delete all the records that are not Equity \n",
    "combined_df = combined_df[combined_df['Last Price($)'] != '-']\n",
    "combined_df['ASX Code'].nunique()"
   ]
  },
  {
   "cell_type": "code",
   "execution_count": 10,
   "id": "17dfcc26-bd59-443e-b3dc-3ddec4f4fe17",
   "metadata": {},
   "outputs": [],
   "source": [
    "# Group by 'ASXCode' and filter out groups with only one unique year\n",
    "combined_df = combined_df.groupby('ASX Code').filter(lambda x: x['Year'].nunique() > 1)"
   ]
  },
  {
   "cell_type": "code",
   "execution_count": 11,
   "id": "b87619fe-8c1b-48c9-ae68-538de5795c87",
   "metadata": {},
   "outputs": [
    {
     "data": {
      "text/plain": [
       "3712"
      ]
     },
     "execution_count": 11,
     "metadata": {},
     "output_type": "execute_result"
    }
   ],
   "source": [
    "combined_df['ASX Code'].nunique()"
   ]
  },
  {
   "cell_type": "code",
   "execution_count": 12,
   "id": "aa3f558b-fd4f-4d16-9f85-aba1783c89c0",
   "metadata": {},
   "outputs": [
    {
     "data": {
      "text/plain": [
       "2261"
      ]
     },
     "execution_count": 12,
     "metadata": {},
     "output_type": "execute_result"
    }
   ],
   "source": [
    "# Deleting companies that no longer exist( don't have data for 2023)\n",
    "# Filter the DataFrame to include only records with Year equal to 2023\n",
    "filtered_asx_codes = combined_df.loc[combined_df['Year'] == 2023, 'ASX Code'].unique()\n",
    "\n",
    "# Filter the original DataFrame based on the filtered ASX Codes\n",
    "combined_df = combined_df[combined_df['ASX Code'].isin(filtered_asx_codes)]\n",
    "combined_df['ASX Code'].nunique()"
   ]
  },
  {
   "cell_type": "code",
   "execution_count": 13,
   "id": "dfa55085-7656-4515-8899-8e8bee73690b",
   "metadata": {},
   "outputs": [],
   "source": [
    "combined_df.to_csv(\"resources\\cleaned_data.csv\", index = False)"
   ]
  },
  {
   "cell_type": "code",
   "execution_count": null,
   "id": "8fcf5013-bbe4-4b23-a2a3-45d9799e1481",
   "metadata": {},
   "outputs": [],
   "source": []
  }
 ],
 "metadata": {
  "kernelspec": {
   "display_name": "Python 3 (ipykernel)",
   "language": "python",
   "name": "python3"
  },
  "language_info": {
   "codemirror_mode": {
    "name": "ipython",
    "version": 3
   },
   "file_extension": ".py",
   "mimetype": "text/x-python",
   "name": "python",
   "nbconvert_exporter": "python",
   "pygments_lexer": "ipython3",
   "version": "3.10.14"
  }
 },
 "nbformat": 4,
 "nbformat_minor": 5
}
