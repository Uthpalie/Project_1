{
 "cells": [
  {
   "cell_type": "code",
   "execution_count": 18,
   "id": "85283f2c-f4ec-4390-a401-b5e59b9af85a",
   "metadata": {},
   "outputs": [],
   "source": [
    "import pandas as pd\n",
    "\n",
    "#Set the path for CSV files\n",
    "cleaned_data_path = \"resources\\cleaned_data.csv\"\n",
    "industries_path = \"resources\\industries.csv\""
   ]
  },
  {
   "cell_type": "code",
   "execution_count": 19,
   "id": "3cfb1575-c5ba-4bd6-9e01-f49557c687ca",
   "metadata": {},
   "outputs": [
    {
     "data": {
      "text/html": [
       "<div>\n",
       "<style scoped>\n",
       "    .dataframe tbody tr th:only-of-type {\n",
       "        vertical-align: middle;\n",
       "    }\n",
       "\n",
       "    .dataframe tbody tr th {\n",
       "        vertical-align: top;\n",
       "    }\n",
       "\n",
       "    .dataframe thead th {\n",
       "        text-align: right;\n",
       "    }\n",
       "</style>\n",
       "<table border=\"1\" class=\"dataframe\">\n",
       "  <thead>\n",
       "    <tr style=\"text-align: right;\">\n",
       "      <th></th>\n",
       "      <th>ASX Code</th>\n",
       "      <th>Security Group Code</th>\n",
       "      <th>Issuer Full Name</th>\n",
       "      <th>Product Description</th>\n",
       "      <th>Last Price($)</th>\n",
       "      <th>Business Date</th>\n",
       "      <th>Year</th>\n",
       "    </tr>\n",
       "  </thead>\n",
       "  <tbody>\n",
       "    <tr>\n",
       "      <th>0</th>\n",
       "      <td>1AD</td>\n",
       "      <td>EQY</td>\n",
       "      <td>ADALTA LIMITED                                ...</td>\n",
       "      <td>ORDINARY</td>\n",
       "      <td>0.280</td>\n",
       "      <td>20170630</td>\n",
       "      <td>2017</td>\n",
       "    </tr>\n",
       "    <tr>\n",
       "      <th>1</th>\n",
       "      <td>1AG</td>\n",
       "      <td>EQY</td>\n",
       "      <td>ALTERRA LIMITED                               ...</td>\n",
       "      <td>ORDINARY</td>\n",
       "      <td>0.024</td>\n",
       "      <td>20170630</td>\n",
       "      <td>2017</td>\n",
       "    </tr>\n",
       "    <tr>\n",
       "      <th>2</th>\n",
       "      <td>1ST</td>\n",
       "      <td>EQY</td>\n",
       "      <td>1ST GROUP LIMITED                             ...</td>\n",
       "      <td>ORDINARY</td>\n",
       "      <td>0.026</td>\n",
       "      <td>20170628</td>\n",
       "      <td>2017</td>\n",
       "    </tr>\n",
       "    <tr>\n",
       "      <th>3</th>\n",
       "      <td>3DP</td>\n",
       "      <td>EQY</td>\n",
       "      <td>POINTERRA LIMITED                             ...</td>\n",
       "      <td>ORDINARY</td>\n",
       "      <td>0.025</td>\n",
       "      <td>20170629</td>\n",
       "      <td>2017</td>\n",
       "    </tr>\n",
       "    <tr>\n",
       "      <th>4</th>\n",
       "      <td>3PL</td>\n",
       "      <td>EQY</td>\n",
       "      <td>3P LEARNING LIMITED..                         ...</td>\n",
       "      <td>ORDINARY</td>\n",
       "      <td>1.045</td>\n",
       "      <td>20170630</td>\n",
       "      <td>2017</td>\n",
       "    </tr>\n",
       "  </tbody>\n",
       "</table>\n",
       "</div>"
      ],
      "text/plain": [
       "  ASX Code Security Group Code  \\\n",
       "0      1AD                 EQY   \n",
       "1      1AG                 EQY   \n",
       "2      1ST                 EQY   \n",
       "3      3DP                 EQY   \n",
       "4      3PL                 EQY   \n",
       "\n",
       "                                    Issuer Full Name   Product Description  \\\n",
       "0  ADALTA LIMITED                                ...  ORDINARY               \n",
       "1  ALTERRA LIMITED                               ...  ORDINARY               \n",
       "2  1ST GROUP LIMITED                             ...  ORDINARY               \n",
       "3  POINTERRA LIMITED                             ...  ORDINARY               \n",
       "4  3P LEARNING LIMITED..                         ...  ORDINARY               \n",
       "\n",
       "   Last Price($) Business Date  Year  \n",
       "0          0.280      20170630  2017  \n",
       "1          0.024      20170630  2017  \n",
       "2          0.026      20170628  2017  \n",
       "3          0.025      20170629  2017  \n",
       "4          1.045      20170630  2017  "
      ]
     },
     "execution_count": 19,
     "metadata": {},
     "output_type": "execute_result"
    }
   ],
   "source": [
    "# Read the CSV file into a DataFrame\n",
    "cleaned_df = pd.read_csv(cleaned_data_path)\n",
    "cleaned_df.head()"
   ]
  },
  {
   "cell_type": "code",
   "execution_count": 20,
   "id": "4443196f-21ba-48cc-b809-027604a76cf4",
   "metadata": {},
   "outputs": [
    {
     "data": {
      "text/html": [
       "<div>\n",
       "<style scoped>\n",
       "    .dataframe tbody tr th:only-of-type {\n",
       "        vertical-align: middle;\n",
       "    }\n",
       "\n",
       "    .dataframe tbody tr th {\n",
       "        vertical-align: top;\n",
       "    }\n",
       "\n",
       "    .dataframe thead th {\n",
       "        text-align: right;\n",
       "    }\n",
       "</style>\n",
       "<table border=\"1\" class=\"dataframe\">\n",
       "  <thead>\n",
       "    <tr style=\"text-align: right;\">\n",
       "      <th></th>\n",
       "      <th>ASX Code</th>\n",
       "      <th>Company Name</th>\n",
       "      <th>Sub-Industry</th>\n",
       "    </tr>\n",
       "  </thead>\n",
       "  <tbody>\n",
       "    <tr>\n",
       "      <th>0</th>\n",
       "      <td>1AD</td>\n",
       "      <td>Adalta Limited Ordinary</td>\n",
       "      <td>Biotechnology &amp; Medical Research</td>\n",
       "    </tr>\n",
       "    <tr>\n",
       "      <th>1</th>\n",
       "      <td>1AE</td>\n",
       "      <td>Aurora Energy Metals Limited Ordinary</td>\n",
       "      <td>Uranium</td>\n",
       "    </tr>\n",
       "    <tr>\n",
       "      <th>2</th>\n",
       "      <td>1ADOA</td>\n",
       "      <td>Adalta Limited $0.03 Option Expiring 29-May-2024</td>\n",
       "      <td>Biotechnology &amp; Medical Research</td>\n",
       "    </tr>\n",
       "    <tr>\n",
       "      <th>3</th>\n",
       "      <td>14D</td>\n",
       "      <td>1414 Degrees Limited Ordinary</td>\n",
       "      <td>Electrical Components &amp; Equipment</td>\n",
       "    </tr>\n",
       "    <tr>\n",
       "      <th>4</th>\n",
       "      <td>1AG</td>\n",
       "      <td>Alterra Limited Ordinary</td>\n",
       "      <td>Environmental Services &amp; Equipment</td>\n",
       "    </tr>\n",
       "  </tbody>\n",
       "</table>\n",
       "</div>"
      ],
      "text/plain": [
       "  ASX Code                                      Company Name  \\\n",
       "0      1AD                           Adalta Limited Ordinary   \n",
       "1      1AE             Aurora Energy Metals Limited Ordinary   \n",
       "2    1ADOA  Adalta Limited $0.03 Option Expiring 29-May-2024   \n",
       "3      14D                     1414 Degrees Limited Ordinary   \n",
       "4      1AG                          Alterra Limited Ordinary   \n",
       "\n",
       "                         Sub-Industry  \n",
       "0    Biotechnology & Medical Research  \n",
       "1                             Uranium  \n",
       "2    Biotechnology & Medical Research  \n",
       "3   Electrical Components & Equipment  \n",
       "4  Environmental Services & Equipment  "
      ]
     },
     "execution_count": 20,
     "metadata": {},
     "output_type": "execute_result"
    }
   ],
   "source": [
    "#Read the industry CSV file\n",
    "industries_df = pd.read_csv(industries_path)\n",
    "industries_df.head()"
   ]
  },
  {
   "cell_type": "code",
   "execution_count": 21,
   "id": "e5ff54af-2bb9-4447-9ef9-7d3efc29ee69",
   "metadata": {},
   "outputs": [
    {
     "data": {
      "text/plain": [
       "2261"
      ]
     },
     "execution_count": 21,
     "metadata": {},
     "output_type": "execute_result"
    }
   ],
   "source": [
    "#Merging combined data CSV and industries CSV files adding the Sub Industry column\n",
    "merged_df = cleaned_df.merge(industries_df, on=['ASX Code'], how='left')\n",
    "merged_df[\"ASX Code\"].nunique()"
   ]
  },
  {
   "cell_type": "code",
   "execution_count": 22,
   "id": "42fe298d-32d0-47f0-9801-5df1a0223922",
   "metadata": {},
   "outputs": [
    {
     "data": {
      "text/plain": [
       "1858"
      ]
     },
     "execution_count": 22,
     "metadata": {},
     "output_type": "execute_result"
    }
   ],
   "source": [
    "# removing entries without sub-industry\n",
    "merged_df = merged_df.dropna(subset=[\"Sub-Industry\"])\n",
    "merged_df[\"ASX Code\"].nunique()"
   ]
  },
  {
   "cell_type": "code",
   "execution_count": 23,
   "id": "86ec83ab-762e-4622-b949-7a8c919d772d",
   "metadata": {},
   "outputs": [],
   "source": [
    "#Saving the final file as a CSV\n",
    "merged_df.to_csv('resources\\merged_industries.csv', index=False)"
   ]
  },
  {
   "cell_type": "code",
   "execution_count": null,
   "id": "16a1158f-723c-4d7f-8ea9-8553f6a50c98",
   "metadata": {},
   "outputs": [],
   "source": []
  }
 ],
 "metadata": {
  "kernelspec": {
   "display_name": "Python 3 (ipykernel)",
   "language": "python",
   "name": "python3"
  },
  "language_info": {
   "codemirror_mode": {
    "name": "ipython",
    "version": 3
   },
   "file_extension": ".py",
   "mimetype": "text/x-python",
   "name": "python",
   "nbconvert_exporter": "python",
   "pygments_lexer": "ipython3",
   "version": "3.10.14"
  }
 },
 "nbformat": 4,
 "nbformat_minor": 5
}
