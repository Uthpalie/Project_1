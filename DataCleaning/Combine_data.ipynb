{
 "cells": [
  {
   "cell_type": "code",
   "execution_count": 26,
   "id": "78260087-02b2-46fa-a96b-982cbf974e7f",
   "metadata": {},
   "outputs": [],
   "source": [
    "import pandas as pd\n",
    "\n",
    "# Read each sheet of the Excel file into separate DataFrames\n",
    "excel_file = \"resources\\merged_file.xlsx\"\n",
    "sheet_names = pd.ExcelFile(excel_file).sheet_names\n",
    "\n",
    "dfs = {}  # Dictionary to store DataFrames\n",
    "for sheet_name in sheet_names:\n",
    "    dfs[sheet_name] = pd.read_excel(excel_file, sheet_name=sheet_name)"
   ]
  },
  {
   "cell_type": "code",
   "execution_count": 27,
   "id": "92b27b7c-6538-4c67-956d-0505f06705bd",
   "metadata": {},
   "outputs": [],
   "source": [
    "# Get the column names of the first DataFrame\n",
    "unified_column_names = [\"ASX Code\", \"Security Group Code\", \"Issuer Full Name\", \"Product Description\", \"Last Price($)\", \"Business Date\"]\n",
    "\n",
    "# Rename the DataFrames in dfs with the unified column names \n",
    "for sheet_name, df in dfs.items():\n",
    "    df.columns = unified_column_names\n",
    "   \n",
    "# Iterate over each DataFrame in the dictionary\n",
    "for name, df in dfs.items():\n",
    "    # Extract the last four letters of the DataFrame name\n",
    "    year_value = name[-4:]\n",
    "    # Fill the \"Year\" column with the extracted value\n",
    "    df['Year'] = year_value"
   ]
  },
  {
   "cell_type": "code",
   "execution_count": 28,
   "id": "25f1ef7c-7990-430d-8175-1ca0d1f0da8b",
   "metadata": {},
   "outputs": [],
   "source": [
    "# Concatenate the data frames vertically\n",
    "combined_df = pd.concat(dfs, ignore_index=True)"
   ]
  },
  {
   "cell_type": "code",
   "execution_count": 29,
   "id": "f2a15401-1f2c-4128-81df-e807e80ba593",
   "metadata": {},
   "outputs": [
    {
     "data": {
      "text/plain": [
       "53373"
      ]
     },
     "execution_count": 29,
     "metadata": {},
     "output_type": "execute_result"
    }
   ],
   "source": [
    "combined_df['ASX Code'].count()"
   ]
  },
  {
   "cell_type": "code",
   "execution_count": 30,
   "id": "abb4778a-e3e8-42f3-8707-c31bd99f2d21",
   "metadata": {},
   "outputs": [
    {
     "data": {
      "text/plain": [
       "18004"
      ]
     },
     "execution_count": 30,
     "metadata": {},
     "output_type": "execute_result"
    }
   ],
   "source": [
    "combined_df.to_csv(\"resources\\combined_data.csv\", index = False)\n",
    "combined_df['ASX Code'].nunique()"
   ]
  },
  {
   "cell_type": "code",
   "execution_count": 15,
   "id": "6d7b7f08",
   "metadata": {},
   "outputs": [],
   "source": []
  }
 ],
 "metadata": {
  "kernelspec": {
   "display_name": "Python 3 (ipykernel)",
   "language": "python",
   "name": "python3"
  },
  "language_info": {
   "codemirror_mode": {
    "name": "ipython",
    "version": 3
   },
   "file_extension": ".py",
   "mimetype": "text/x-python",
   "name": "python",
   "nbconvert_exporter": "python",
   "pygments_lexer": "ipython3",
   "version": "3.10.14"
  }
 },
 "nbformat": 4,
 "nbformat_minor": 5
}
